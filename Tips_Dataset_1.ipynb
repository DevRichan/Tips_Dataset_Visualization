{
  "nbformat": 4,
  "nbformat_minor": 0,
  "metadata": {
    "kernelspec": {
      "display_name": "Python 3",
      "language": "python",
      "name": "python3"
    },
    "language_info": {
      "codemirror_mode": {
        "name": "ipython",
        "version": 3
      },
      "file_extension": ".py",
      "mimetype": "text/x-python",
      "name": "python",
      "nbconvert_exporter": "python",
      "pygments_lexer": "ipython3",
      "version": "3.6.2"
    },
    "colab": {
      "name": "Tips_Dataset_1.ipynb",
      "provenance": [],
      "include_colab_link": true
    }
  },
  "cells": [
    {
      "cell_type": "markdown",
      "metadata": {
        "id": "view-in-github",
        "colab_type": "text"
      },
      "source": [
        "<a href=\"https://colab.research.google.com/github/DevRichan/Tips_Dataset_Visualization/blob/master/Tips_Dataset_1.ipynb\" target=\"_parent\"><img src=\"https://colab.research.google.com/assets/colab-badge.svg\" alt=\"Open In Colab\"/></a>"
      ]
    },
    {
      "cell_type": "code",
      "metadata": {
        "id": "s9UMGQM3e6pE",
        "colab_type": "code",
        "colab": {}
      },
      "source": [
        "import pandas as pd\n",
        "import numpy as np\n",
        "import seaborn as sns\n",
        "import matplotlib.pyplot as plt"
      ],
      "execution_count": null,
      "outputs": []
    },
    {
      "cell_type": "code",
      "metadata": {
        "id": "rrMPgdwDe6pI",
        "colab_type": "code",
        "colab": {},
        "outputId": "47db4a6c-3434-4a1a-fff9-f896bc45e3f0"
      },
      "source": [
        "## load data_set\n",
        "df = sns.load_dataset('tips')\n",
        "df.head(5)"
      ],
      "execution_count": null,
      "outputs": [
        {
          "output_type": "execute_result",
          "data": {
            "text/html": [
              "<div>\n",
              "<style scoped>\n",
              "    .dataframe tbody tr th:only-of-type {\n",
              "        vertical-align: middle;\n",
              "    }\n",
              "\n",
              "    .dataframe tbody tr th {\n",
              "        vertical-align: top;\n",
              "    }\n",
              "\n",
              "    .dataframe thead th {\n",
              "        text-align: right;\n",
              "    }\n",
              "</style>\n",
              "<table border=\"1\" class=\"dataframe\">\n",
              "  <thead>\n",
              "    <tr style=\"text-align: right;\">\n",
              "      <th></th>\n",
              "      <th>total_bill</th>\n",
              "      <th>tip</th>\n",
              "      <th>sex</th>\n",
              "      <th>smoker</th>\n",
              "      <th>day</th>\n",
              "      <th>time</th>\n",
              "      <th>size</th>\n",
              "    </tr>\n",
              "  </thead>\n",
              "  <tbody>\n",
              "    <tr>\n",
              "      <th>0</th>\n",
              "      <td>16.99</td>\n",
              "      <td>1.01</td>\n",
              "      <td>Female</td>\n",
              "      <td>No</td>\n",
              "      <td>Sun</td>\n",
              "      <td>Dinner</td>\n",
              "      <td>2</td>\n",
              "    </tr>\n",
              "    <tr>\n",
              "      <th>1</th>\n",
              "      <td>10.34</td>\n",
              "      <td>1.66</td>\n",
              "      <td>Male</td>\n",
              "      <td>No</td>\n",
              "      <td>Sun</td>\n",
              "      <td>Dinner</td>\n",
              "      <td>3</td>\n",
              "    </tr>\n",
              "    <tr>\n",
              "      <th>2</th>\n",
              "      <td>21.01</td>\n",
              "      <td>3.50</td>\n",
              "      <td>Male</td>\n",
              "      <td>No</td>\n",
              "      <td>Sun</td>\n",
              "      <td>Dinner</td>\n",
              "      <td>3</td>\n",
              "    </tr>\n",
              "    <tr>\n",
              "      <th>3</th>\n",
              "      <td>23.68</td>\n",
              "      <td>3.31</td>\n",
              "      <td>Male</td>\n",
              "      <td>No</td>\n",
              "      <td>Sun</td>\n",
              "      <td>Dinner</td>\n",
              "      <td>2</td>\n",
              "    </tr>\n",
              "    <tr>\n",
              "      <th>4</th>\n",
              "      <td>24.59</td>\n",
              "      <td>3.61</td>\n",
              "      <td>Female</td>\n",
              "      <td>No</td>\n",
              "      <td>Sun</td>\n",
              "      <td>Dinner</td>\n",
              "      <td>4</td>\n",
              "    </tr>\n",
              "  </tbody>\n",
              "</table>\n",
              "</div>"
            ],
            "text/plain": [
              "   total_bill   tip     sex smoker  day    time  size\n",
              "0       16.99  1.01  Female     No  Sun  Dinner     2\n",
              "1       10.34  1.66    Male     No  Sun  Dinner     3\n",
              "2       21.01  3.50    Male     No  Sun  Dinner     3\n",
              "3       23.68  3.31    Male     No  Sun  Dinner     2\n",
              "4       24.59  3.61  Female     No  Sun  Dinner     4"
            ]
          },
          "metadata": {
            "tags": []
          },
          "execution_count": 89
        }
      ]
    },
    {
      "cell_type": "code",
      "metadata": {
        "id": "kxY48-Hze6pM",
        "colab_type": "code",
        "colab": {},
        "outputId": "695a73c5-6db7-42a2-e42a-f0fdedc0ae69"
      },
      "source": [
        "df.info()"
      ],
      "execution_count": null,
      "outputs": [
        {
          "output_type": "stream",
          "text": [
            "<class 'pandas.core.frame.DataFrame'>\n",
            "RangeIndex: 244 entries, 0 to 243\n",
            "Data columns (total 7 columns):\n",
            "total_bill    244 non-null float64\n",
            "tip           244 non-null float64\n",
            "sex           244 non-null category\n",
            "smoker        244 non-null category\n",
            "day           244 non-null category\n",
            "time          244 non-null category\n",
            "size          244 non-null int64\n",
            "dtypes: category(4), float64(2), int64(1)\n",
            "memory usage: 7.2 KB\n"
          ],
          "name": "stdout"
        }
      ]
    },
    {
      "cell_type": "markdown",
      "metadata": {
        "id": "EoDTgMaMe6pQ",
        "colab_type": "text"
      },
      "source": [
        "### Question 1 :\n",
        "- Men and women who smoke\n",
        "- Men and women who don't smoke\n",
        "\n",
        "Notes : \n",
        "- I assume that the number of customers present is based on the number in the gender column"
      ]
    },
    {
      "cell_type": "code",
      "metadata": {
        "id": "DfQXdX-ve6pR",
        "colab_type": "code",
        "colab": {},
        "outputId": "455bdc46-44c1-49c5-f7bc-fa2a3bc216c2"
      },
      "source": [
        "male_yes = len(df[(df['sex'] == 'Male') & (df['smoker'] =='Yes')])\n",
        "print('The number of men who smoke = ',male_yes)"
      ],
      "execution_count": null,
      "outputs": [
        {
          "output_type": "stream",
          "text": [
            "The number of men who smoke =  60\n"
          ],
          "name": "stdout"
        }
      ]
    },
    {
      "cell_type": "code",
      "metadata": {
        "id": "gfg-bDGMe6pU",
        "colab_type": "code",
        "colab": {},
        "outputId": "0ff6a004-89e0-4608-f392-5e42ae18849b"
      },
      "source": [
        "female_yes = len(df[(df['sex'] == 'Female') & (df['smoker'] =='Yes')])\n",
        "print('The number of woman who smoke = ',female_yes)"
      ],
      "execution_count": null,
      "outputs": [
        {
          "output_type": "stream",
          "text": [
            "The number of woman who smoke =  33\n"
          ],
          "name": "stdout"
        }
      ]
    },
    {
      "cell_type": "code",
      "metadata": {
        "id": "Sn8YLLVfe6pW",
        "colab_type": "code",
        "colab": {},
        "outputId": "b4ae2d00-5174-424e-ae5e-8829424bba08"
      },
      "source": [
        "male_no = len(df[(df['sex'] == 'Male') & (df['smoker'] == 'No')])\n",
        "print('The number of men who dont smoke = ',male_no)"
      ],
      "execution_count": null,
      "outputs": [
        {
          "output_type": "stream",
          "text": [
            "The number of men who dont smoke =  97\n"
          ],
          "name": "stdout"
        }
      ]
    },
    {
      "cell_type": "code",
      "metadata": {
        "id": "KzFgYH55e6pa",
        "colab_type": "code",
        "colab": {},
        "outputId": "a72d657e-ff75-4d6b-d32b-fa487d61622e"
      },
      "source": [
        "female_no = len(df[(df['sex'] == 'Female') & (df['smoker'] == 'No')])\n",
        "print('The number of Woman who dont smoke = ',female_no)"
      ],
      "execution_count": null,
      "outputs": [
        {
          "output_type": "stream",
          "text": [
            "The number of Woman who dont smoke =  54\n"
          ],
          "name": "stdout"
        }
      ]
    },
    {
      "cell_type": "code",
      "metadata": {
        "id": "nkoR4LxSe6pd",
        "colab_type": "code",
        "colab": {},
        "outputId": "a99627cf-4c6a-4cc7-9e00-d0ebecd702e9"
      },
      "source": [
        "data = {\n",
        "    'male_yes' : male_yes,\n",
        "    'male_no' : male_no,\n",
        "    'female_yes': female_yes,\n",
        "    'female_no': female_no\n",
        "}\n",
        "\n",
        "color = ['red','yellow','red','yellow']\n",
        "labell = ['male_yes','male_no','female_yes','female_no']\n",
        "names = list(data.keys())\n",
        "values= list(data.values())\n",
        "# print(names)\n",
        "# print(values)\n",
        "\n",
        "fig= plt.figure(figsize=(10,5))\n",
        "axes = fig.add_axes([0,0,1,1])\n",
        "\n",
        "\n",
        "for i in range (len(names)):\n",
        "    axes.bar(\n",
        "    names[i],values[i],color = color[i], label=labell[i]\n",
        "    )\n",
        "axes.set_title('Smoker and No smokers',color='black')\n",
        "axes.legend()\n",
        "plt.show()\n"
      ],
      "execution_count": null,
      "outputs": [
        {
          "output_type": "display_data",
          "data": {
            "image/png": "[encoded data removed]",
            "text/plain": [
              "<Figure size 720x360 with 1 Axes>"
            ]
          },
          "metadata": {
            "tags": [],
            "needs_background": "light"
          }
        }
      ]
    },
    {
      "cell_type": "markdown",
      "metadata": {
        "id": "GmhDOxo_e6pi",
        "colab_type": "text"
      },
      "source": [
        "### Question 1.2 :\n",
        "- Men and women who smoke\n",
        "- Men and women who don't smoke\n",
        "\n",
        "Notes : \n",
        "- I assume that the number of customers present is based on the number in the gender column"
      ]
    },
    {
      "cell_type": "code",
      "metadata": {
        "id": "Af_Tk_7Me6pi",
        "colab_type": "code",
        "colab": {},
        "outputId": "f4bcb2e3-8a62-4756-dc82-801d58bb7b95"
      },
      "source": [
        "male_yes_2 = df[(df['sex'] == 'Male') & (df['smoker'] == 'Yes')]['size'].sum()\n",
        "print('The number of men who smoke = ',male_yes_2)"
      ],
      "execution_count": null,
      "outputs": [
        {
          "output_type": "stream",
          "text": [
            "The number of men who smoke =  150\n"
          ],
          "name": "stdout"
        }
      ]
    },
    {
      "cell_type": "code",
      "metadata": {
        "id": "cHxP3XRPe6pl",
        "colab_type": "code",
        "colab": {},
        "outputId": "15e39ea8-89af-41b8-a22d-bf7ae6444d1c"
      },
      "source": [
        "female_yes_2 = df[(df['sex'] == 'Female') & (df['smoker'] == 'Yes')]['size'].sum()\n",
        "print('The number of women who smoke = ',female_yes_2)"
      ],
      "execution_count": null,
      "outputs": [
        {
          "output_type": "stream",
          "text": [
            "The number of women who smoke =  74\n"
          ],
          "name": "stdout"
        }
      ]
    },
    {
      "cell_type": "code",
      "metadata": {
        "id": "rc0IwfHge6pp",
        "colab_type": "code",
        "colab": {},
        "outputId": "4dcbe1e9-47a0-4fc1-a173-4107a41bf5ab"
      },
      "source": [
        "male_no = df[(df['sex'] == 'Male') & (df['smoker'] == 'No')]['size'].sum()\n",
        "print('The number of men who dont smoke = ',male_no)"
      ],
      "execution_count": null,
      "outputs": [
        {
          "output_type": "stream",
          "text": [
            "The number of men who dont smoke =  263\n"
          ],
          "name": "stdout"
        }
      ]
    },
    {
      "cell_type": "code",
      "metadata": {
        "id": "MFBlX8tUe6ps",
        "colab_type": "code",
        "colab": {},
        "outputId": "7f73ab4f-cdc8-4b90-a8f1-4aa9cd3b6bdb"
      },
      "source": [
        "female_no = df[(df['sex'] == 'Female') & (df['smoker'] == 'No')]['size'].sum()\n",
        "print('The number of women who dont smoke = ',female_no)"
      ],
      "execution_count": null,
      "outputs": [
        {
          "output_type": "stream",
          "text": [
            "The number of women who dont smoke =  140\n"
          ],
          "name": "stdout"
        }
      ]
    },
    {
      "cell_type": "code",
      "metadata": {
        "id": "Is_UvSWje6pv",
        "colab_type": "code",
        "colab": {},
        "outputId": "467bcb80-f030-4467-d84d-7880525d970e"
      },
      "source": [
        "### Visualization\n",
        "\n",
        "data = {\n",
        "    'male_yes' : male_yes_2,\n",
        "    'female_yes': female_yes_2,\n",
        "    'male_no' : male_no,\n",
        "    'female_no': female_no\n",
        "}\n",
        "\n",
        "fig = plt.figure(figsize=(10,5))\n",
        "axes = fig.add_axes([0,0,1,1])\n",
        "\n",
        "color = ['blue','yellow','blue','yellow']\n",
        "labell = ['male_yes','male_no','female_yes','female_no']\n",
        "names = list(data.keys())\n",
        "values= list(data.values())\n",
        "\n",
        "for i in range(len(names)):\n",
        "    axes.bar(\n",
        "    names[i],values[i],color=color[i],label=labell[i]\n",
        "    )\n",
        "\n",
        "plt.legend()\n",
        "\n"
      ],
      "execution_count": null,
      "outputs": [
        {
          "output_type": "execute_result",
          "data": {
            "text/plain": [
              "<matplotlib.legend.Legend at 0x1d2c2ba5518>"
            ]
          },
          "metadata": {
            "tags": []
          },
          "execution_count": 100
        },
        {
          "output_type": "display_data",
          "data": {
            "image/png": "[encoded data removed]",
            "text/plain": [
              "<Figure size 720x360 with 1 Axes>"
            ]
          },
          "metadata": {
            "tags": [],
            "needs_background": "light"
          }
        }
      ]
    },
    {
      "cell_type": "markdown",
      "metadata": {
        "id": "FRpKtwiJe6p0",
        "colab_type": "text"
      },
      "source": [
        "### Question 2 :\n",
        "- Total tip of the men and woman who smoke"
      ]
    },
    {
      "cell_type": "code",
      "metadata": {
        "id": "DkXt0AVNe6p1",
        "colab_type": "code",
        "colab": {},
        "outputId": "4e973b16-eb54-4709-b90b-8c21e78c3236"
      },
      "source": [
        "tip_male = df[(df['sex'] == 'Male') & (df['smoker']=='Yes')]['tip'].sum()\n",
        "print('A tip from average/mean man who smoke is = ',round(tip_male,2))"
      ],
      "execution_count": null,
      "outputs": [
        {
          "output_type": "stream",
          "text": [
            "A tip from average/mean man who smoke is =  183.07\n"
          ],
          "name": "stdout"
        }
      ]
    },
    {
      "cell_type": "code",
      "metadata": {
        "id": "4_ra1AEce6p4",
        "colab_type": "code",
        "colab": {},
        "outputId": "d47cb01b-b46f-43cd-ba03-c3486a1f3a44"
      },
      "source": [
        "tip_female = df[(df['sex'] == 'Female') & (df['smoker'] == 'Yes')]['tip'].sum()\n",
        "print('A tip from average/mean man who smoke is =' ,round(tip_female,2))"
      ],
      "execution_count": null,
      "outputs": [
        {
          "output_type": "stream",
          "text": [
            "A tip from average/mean man who smoke is = 96.74\n"
          ],
          "name": "stdout"
        }
      ]
    },
    {
      "cell_type": "code",
      "metadata": {
        "id": "IhkI4aGhe6p7",
        "colab_type": "code",
        "colab": {},
        "outputId": "a41b0e8a-93db-438b-82e8-b7b23b845114"
      },
      "source": [
        "\n",
        "dicty = {\n",
        "    'male' : tip_male,\n",
        "    'female' : tip_female\n",
        "}\n",
        "\n",
        "keys = list(dicty.keys())\n",
        "values = list(dicty.values())\n",
        "colorr = ['red','blue']\n",
        "\n",
        "fig = plt.figure()\n",
        "ax = fig.add_axes([0,0,1,1])\n",
        "\n",
        "for i in range(len(keys)):\n",
        "    ax.bar(\n",
        "    keys[i],values[i],color=colorr[i],label = keys[i]\n",
        "    )\n",
        "plt.legend()\n",
        "plt.show()"
      ],
      "execution_count": null,
      "outputs": [
        {
          "output_type": "display_data",
          "data": {
            "image/png": "[encoded data removed]",
            "text/plain": [
              "<Figure size 432x288 with 1 Axes>"
            ]
          },
          "metadata": {
            "tags": [],
            "needs_background": "light"
          }
        }
      ]
    },
    {
      "cell_type": "code",
      "metadata": {
        "id": "0sQauIjle6p-",
        "colab_type": "code",
        "colab": {},
        "outputId": "61086991-2a7f-401c-99e5-e61cd549f942"
      },
      "source": [
        "# Other solution\n",
        "\n",
        "sex = df['sex'].values\n",
        "smoker = df['smoker'].values\n",
        "tip = df['tip'].values\n",
        "join = zip(sex,smoker,tip)\n",
        "\n",
        "jml_male = 0\n",
        "jml_female = 0\n",
        "for s,t,j in join:\n",
        "    if (s == 'Male') & (t=='Yes'):\n",
        "        jml_male+=j\n",
        "    elif (s == 'Female') & (t=='Yes'):\n",
        "        jml_female+=j\n",
        "        \n",
        "print('A tip from average/mean man who smoke is = ',jml_male)\n",
        "print('A tip from average/mean man who smoke is =' ,jml_female)"
      ],
      "execution_count": null,
      "outputs": [
        {
          "output_type": "stream",
          "text": [
            "A tip from average/mean man who smoke is =  183.07\n",
            "A tip from average/mean man who smoke is = 96.74\n"
          ],
          "name": "stdout"
        }
      ]
    },
    {
      "cell_type": "markdown",
      "metadata": {
        "id": "5vtSik2oe6qA",
        "colab_type": "text"
      },
      "source": [
        "### Question 3 :\n",
        "- The day with the most lunch\n",
        "- The day with the most dinner\n",
        "\n",
        "Notes : \n",
        "- I assume that this data is weekly, and the number of subscribers is calculated from the size column"
      ]
    },
    {
      "cell_type": "code",
      "metadata": {
        "id": "8zHOFgQse6qB",
        "colab_type": "code",
        "colab": {},
        "outputId": "71871d5e-2ea7-43da-d2d5-e8cf717f90fc"
      },
      "source": [
        "df['day'].unique()"
      ],
      "execution_count": null,
      "outputs": [
        {
          "output_type": "execute_result",
          "data": {
            "text/plain": [
              "[Sun, Sat, Thur, Fri]\n",
              "Categories (4, object): [Sun, Sat, Thur, Fri]"
            ]
          },
          "metadata": {
            "tags": []
          },
          "execution_count": 105
        }
      ]
    },
    {
      "cell_type": "code",
      "metadata": {
        "id": "sthpKC6fe6qF",
        "colab_type": "code",
        "colab": {},
        "outputId": "2e7701e1-8066-4a36-affb-419538fee8d0"
      },
      "source": [
        "df['time'].unique()"
      ],
      "execution_count": null,
      "outputs": [
        {
          "output_type": "execute_result",
          "data": {
            "text/plain": [
              "[Dinner, Lunch]\n",
              "Categories (2, object): [Dinner, Lunch]"
            ]
          },
          "metadata": {
            "tags": []
          },
          "execution_count": 106
        }
      ]
    },
    {
      "cell_type": "code",
      "metadata": {
        "id": "4dM6Mb7ce6qI",
        "colab_type": "code",
        "colab": {},
        "outputId": "f641e92f-20b2-416f-87c0-56377ac11a77"
      },
      "source": [
        "sunday_l = df[(df['day'] == 'Sun') & (df['time'] =='Lunch')]['size'].sum()\n",
        "thursday_l = df[(df['day'] == 'Thur') & (df['time'] =='Lunch')]['size'].sum()\n",
        "friday_l = df[(df['day'] == 'Fri') & (df['time'] =='Lunch')]['size'].sum()\n",
        "sat_l = df[(df['day'] == 'Sat') & (df['time'] =='Lunch')]['size'].sum()\n",
        "\n",
        "print('Amount of Lunch on Sunday = ', sunday_l)\n",
        "print('Amount of Lunch on Thur = ', thursday_l)\n",
        "print('Amount of Lunch on Fri = ', friday_l)\n",
        "print('Amount of Lunch on Saturday = ', sat_l)"
      ],
      "execution_count": null,
      "outputs": [
        {
          "output_type": "stream",
          "text": [
            "Amount of Lunch on Sunday =  0\n",
            "Amount of Lunch on Thur =  150\n",
            "Amount of Lunch on Fri =  14\n",
            "Amount of Lunch on Saturday =  0\n"
          ],
          "name": "stdout"
        }
      ]
    },
    {
      "cell_type": "code",
      "metadata": {
        "id": "HH2CnMdJe6qL",
        "colab_type": "code",
        "colab": {},
        "outputId": "5ce8a9cd-bc2f-4e99-e7be-80084793428e"
      },
      "source": [
        "sunday_dd = df[(df['day'] == 'Sun') & (df['time'] =='Dinner')]['size'].sum()\n",
        "thursday_dd = df[(df['day'] == 'Thur') & (df['time'] =='Dinner')]['size'].sum()\n",
        "friday_dd = df[(df['day'] == 'Fri') & (df['time'] =='Dinner')]['size'].sum()\n",
        "sat_dd = df[(df['day'] == 'Sat') & (df['time'] =='Dinner')]['size'].sum()\n",
        "\n",
        "print('Amount of Dinner on Sunday = ', sunday_dd)\n",
        "print('Amount of Dinner on Thur = ', thursday_dd)\n",
        "print('Amount of Dinner on Fri = ', friday_dd)\n",
        "print('Amount of Dinner on Saturday = ', sat_dd)"
      ],
      "execution_count": null,
      "outputs": [
        {
          "output_type": "stream",
          "text": [
            "Amount of Dinner on Sunday =  216\n",
            "Amount of Dinner on Thur =  2\n",
            "Amount of Dinner on Fri =  26\n",
            "Amount of Dinner on Saturday =  219\n"
          ],
          "name": "stdout"
        }
      ]
    },
    {
      "cell_type": "code",
      "metadata": {
        "id": "pnBk0J27e6qN",
        "colab_type": "code",
        "colab": {},
        "outputId": "2b6c0d6f-e670-4e6d-9031-bb0e08b9154f"
      },
      "source": [
        "dict_data2 = {\n",
        "    'l_sunday' :sunday_l,\n",
        "    'l_thursday': thursday_l,\n",
        "    'l_friday' : friday_l,\n",
        "    'l_sat' : sat_l,\n",
        "    \n",
        "    'd_sunday ': sunday_dd,\n",
        "    'd_thursday' : thursday_dd,\n",
        "    'd_friday' : friday_dd,\n",
        "    'd_sat' : sat_dd\n",
        "}\n",
        "keys = list(dict_data2.keys())\n",
        "values = list(dict_data2.values())\n",
        "color = ['red','red','red','red','blue','blue','blue','blue']\n",
        "label = ['Amount of Lunch on Sunday',\n",
        "        'Amount of Lunch on Thur', \n",
        "        'Amount of Lunch on Fri',\n",
        "        'Amount of Lunch on Saturday',\n",
        "        'Amount of Dinner on Sunday', \n",
        "        'Amount of Dinner on Thur', \n",
        "        'Amount of Dinner on Fri', \n",
        "        'Amount of Dinner on Saturday'\n",
        "        ]\n",
        "\n",
        "print(values[2])\n",
        "fig = plt.figure(figsize=(10,5))\n",
        "ax = fig.add_axes([0,0,1,1])\n",
        "for i in range(len(keys)):\n",
        "    ax.bar(\n",
        "    keys[i],values[i],color=color[i],label=label[i]\n",
        "    )\n",
        "plt.legend()\n",
        "plt.show()"
      ],
      "execution_count": null,
      "outputs": [
        {
          "output_type": "stream",
          "text": [
            "14\n"
          ],
          "name": "stdout"
        },
        {
          "output_type": "display_data",
          "data": {
            "image/png": "[encoded data removed]",
            "text/plain": [
              "<Figure size 720x360 with 1 Axes>"
            ]
          },
          "metadata": {
            "tags": [],
            "needs_background": "light"
          }
        }
      ]
    },
    {
      "cell_type": "code",
      "metadata": {
        "id": "ltPFPlEBe6qQ",
        "colab_type": "code",
        "colab": {}
      },
      "source": [
        ""
      ],
      "execution_count": null,
      "outputs": []
    }
  ]
}